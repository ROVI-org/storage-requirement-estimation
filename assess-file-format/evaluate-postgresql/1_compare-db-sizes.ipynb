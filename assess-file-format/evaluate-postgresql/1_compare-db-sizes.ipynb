{
 "cells": [
  {
   "cell_type": "markdown",
   "id": "8c9a0fb5-f9d7-4398-acd6-f776e3ab3a1b",
   "metadata": {},
   "source": [
    "# Compare the Sizes of Data Files\n",
    "Show the effect of different representations for the numbers settings on file size"
   ]
  },
  {
   "cell_type": "code",
   "execution_count": 1,
   "id": "ea618429-9627-471b-8e28-36f40ec47cde",
   "metadata": {},
   "outputs": [],
   "source": [
    "%matplotlib inline\n",
    "from matplotlib import pyplot as plt\n",
    "import pandas as pd"
   ]
  },
  {
   "cell_type": "markdown",
   "id": "190835d6-850a-4a99-b388-663ae051c976",
   "metadata": {},
   "source": [
    "## Load Results\n",
    "Load the results from previous tests"
   ]
  },
  {
   "cell_type": "code",
   "execution_count": 2,
   "id": "5e3ae179-0094-476d-8a0f-56f94221bbd4",
   "metadata": {},
   "outputs": [],
   "source": [
    "results = pd.read_json('storage-results.json', lines=True)"
   ]
  },
  {
   "cell_type": "markdown",
   "id": "7a89a790-ddd0-4bb6-ab5e-cdaef3103776",
   "metadata": {},
   "source": [
    "Compute the size with reference to the smallest database (representing the base cost ofmaking the database) "
   ]
  },
  {
   "cell_type": "code",
   "execution_count": 3,
   "id": "955a092f-092f-4b75-b9a7-4996628c93f7",
   "metadata": {},
   "outputs": [],
   "source": [
    "results['size_delta'] = results['size'] - results['size'].min()"
   ]
  },
  {
   "cell_type": "code",
   "execution_count": 4,
   "id": "67a95aa9-43c1-4bab-9d49-9d22ca2e34ad",
   "metadata": {},
   "outputs": [],
   "source": [
    "results['bytes_per_row'] = results['size_delta'] / results['rows']"
   ]
  },
  {
   "cell_type": "code",
   "execution_count": 5,
   "id": "9f65b903-84e4-4d97-99fa-11fa68f8a65e",
   "metadata": {},
   "outputs": [],
   "source": [
    "results['float_size'] = results['schema'].apply(lambda x: x['Current_A'])"
   ]
  },
  {
   "cell_type": "code",
   "execution_count": 6,
   "id": "0379d36e-857d-4e78-a1b8-aaa9018fadbd",
   "metadata": {},
   "outputs": [],
   "source": [
    "results['test_id'] = None\n",
    "for i, (_, group) in enumerate(results.groupby(['float_size'])):\n",
    "    results.loc[group.index, 'test_id'] = i"
   ]
  },
  {
   "cell_type": "code",
   "execution_count": 7,
   "id": "85b28783-cb82-412e-ac53-f28a090ec5aa",
   "metadata": {},
   "outputs": [
    {
     "data": {
      "text/html": [
       "<div>\n",
       "<style scoped>\n",
       "    .dataframe tbody tr th:only-of-type {\n",
       "        vertical-align: middle;\n",
       "    }\n",
       "\n",
       "    .dataframe tbody tr th {\n",
       "        vertical-align: top;\n",
       "    }\n",
       "\n",
       "    .dataframe thead th {\n",
       "        text-align: right;\n",
       "    }\n",
       "</style>\n",
       "<table border=\"1\" class=\"dataframe\">\n",
       "  <thead>\n",
       "    <tr style=\"text-align: right;\">\n",
       "      <th></th>\n",
       "      <th>rows</th>\n",
       "      <th>columns</th>\n",
       "      <th>schema</th>\n",
       "      <th>size</th>\n",
       "      <th>size_delta</th>\n",
       "      <th>bytes_per_row</th>\n",
       "      <th>float_size</th>\n",
       "      <th>test_id</th>\n",
       "    </tr>\n",
       "  </thead>\n",
       "  <tbody>\n",
       "    <tr>\n",
       "      <th>0</th>\n",
       "      <td>30000</td>\n",
       "      <td>[Current_A, Voltage_V, Cell_Temperature_C, Dat...</td>\n",
       "      <td>{'Current_A': 'REAL', 'Voltage_V': 'REAL', 'Ce...</td>\n",
       "      <td>42434296</td>\n",
       "      <td>1589248</td>\n",
       "      <td>52.974933</td>\n",
       "      <td>REAL</td>\n",
       "      <td>3</td>\n",
       "    </tr>\n",
       "    <tr>\n",
       "      <th>1</th>\n",
       "      <td>10000</td>\n",
       "      <td>[Current_A, Voltage_V, Cell_Temperature_C, Dat...</td>\n",
       "      <td>{'Current_A': 'REAL', 'Voltage_V': 'REAL', 'Ce...</td>\n",
       "      <td>41385720</td>\n",
       "      <td>540672</td>\n",
       "      <td>54.067200</td>\n",
       "      <td>REAL</td>\n",
       "      <td>3</td>\n",
       "    </tr>\n",
       "    <tr>\n",
       "      <th>2</th>\n",
       "      <td>1</td>\n",
       "      <td>[Current_A, Voltage_V, Cell_Temperature_C, Dat...</td>\n",
       "      <td>{'Current_A': 'REAL', 'Voltage_V': 'REAL', 'Ce...</td>\n",
       "      <td>40845048</td>\n",
       "      <td>0</td>\n",
       "      <td>0.000000</td>\n",
       "      <td>REAL</td>\n",
       "      <td>3</td>\n",
       "    </tr>\n",
       "    <tr>\n",
       "      <th>3</th>\n",
       "      <td>3000</td>\n",
       "      <td>[Current_A, Voltage_V, Cell_Temperature_C, Dat...</td>\n",
       "      <td>{'Current_A': 'REAL', 'Voltage_V': 'REAL', 'Ce...</td>\n",
       "      <td>41025272</td>\n",
       "      <td>180224</td>\n",
       "      <td>60.074667</td>\n",
       "      <td>REAL</td>\n",
       "      <td>3</td>\n",
       "    </tr>\n",
       "    <tr>\n",
       "      <th>4</th>\n",
       "      <td>1000</td>\n",
       "      <td>[Current_A, Voltage_V, Cell_Temperature_C, Dat...</td>\n",
       "      <td>{'Current_A': 'REAL', 'Voltage_V': 'REAL', 'Ce...</td>\n",
       "      <td>40918776</td>\n",
       "      <td>73728</td>\n",
       "      <td>73.728000</td>\n",
       "      <td>REAL</td>\n",
       "      <td>3</td>\n",
       "    </tr>\n",
       "  </tbody>\n",
       "</table>\n",
       "</div>"
      ],
      "text/plain": [
       "    rows                                            columns  \\\n",
       "0  30000  [Current_A, Voltage_V, Cell_Temperature_C, Dat...   \n",
       "1  10000  [Current_A, Voltage_V, Cell_Temperature_C, Dat...   \n",
       "2      1  [Current_A, Voltage_V, Cell_Temperature_C, Dat...   \n",
       "3   3000  [Current_A, Voltage_V, Cell_Temperature_C, Dat...   \n",
       "4   1000  [Current_A, Voltage_V, Cell_Temperature_C, Dat...   \n",
       "\n",
       "                                              schema      size  size_delta  \\\n",
       "0  {'Current_A': 'REAL', 'Voltage_V': 'REAL', 'Ce...  42434296     1589248   \n",
       "1  {'Current_A': 'REAL', 'Voltage_V': 'REAL', 'Ce...  41385720      540672   \n",
       "2  {'Current_A': 'REAL', 'Voltage_V': 'REAL', 'Ce...  40845048           0   \n",
       "3  {'Current_A': 'REAL', 'Voltage_V': 'REAL', 'Ce...  41025272      180224   \n",
       "4  {'Current_A': 'REAL', 'Voltage_V': 'REAL', 'Ce...  40918776       73728   \n",
       "\n",
       "   bytes_per_row float_size test_id  \n",
       "0      52.974933       REAL       3  \n",
       "1      54.067200       REAL       3  \n",
       "2       0.000000       REAL       3  \n",
       "3      60.074667       REAL       3  \n",
       "4      73.728000       REAL       3  "
      ]
     },
     "execution_count": 7,
     "metadata": {},
     "output_type": "execute_result"
    }
   ],
   "source": [
    "results.head()"
   ]
  },
  {
   "cell_type": "markdown",
   "id": "3d7e9e0b-43d6-4308-8f5c-707e1c1e9813",
   "metadata": {},
   "source": [
    "## Effect of Numeric Size\n",
    "See how it changes as we add more data"
   ]
  },
  {
   "cell_type": "code",
   "execution_count": 8,
   "id": "bc7cda89-b2e0-4ba5-9def-fbc195f70a78",
   "metadata": {},
   "outputs": [
    {
     "data": {
      "image/png": "[encoded data removed]",
      "text/plain": [
       "<Figure size 350x200 with 1 Axes>"
      ]
     },
     "metadata": {},
     "output_type": "display_data"
    }
   ],
   "source": [
    "fig, ax = plt.subplots(figsize=(3.5, 2.), sharey=True)\n",
    "\n",
    "for gid, group in results.query('size_delta > 0').groupby('float_size'):\n",
    "    group = group.groupby('rows')['bytes_per_row'].min()\n",
    "    ax.semilogx(group.index, group, '--o', label=gid)\n",
    "\n",
    "    ax.legend(fontsize=6, ncol=2)\n",
    "    ax.set_xlabel('Rows')\n",
    "ax.set_ylabel('Cost (Bytes/row)')\n",
    "fig.tight_layout()\n",
    "\n",
    "fig.savefig('summary.png', dpi=320)"
   ]
  },
  {
   "cell_type": "code",
   "execution_count": null,
   "id": "3a2ae729-99c4-450d-b376-221ccc2f7e02",
   "metadata": {},
   "outputs": [],
   "source": []
  }
 ],
 "metadata": {
  "kernelspec": {
   "display_name": "Python 3 (ipykernel)",
   "language": "python",
   "name": "python3"
  },
  "language_info": {
   "codemirror_mode": {
    "name": "ipython",
    "version": 3
   },
   "file_extension": ".py",
   "mimetype": "text/x-python",
   "name": "python",
   "nbconvert_exporter": "python",
   "pygments_lexer": "ipython3",
   "version": "3.10.14"
  }
 },
 "nbformat": 4,
 "nbformat_minor": 5
}
