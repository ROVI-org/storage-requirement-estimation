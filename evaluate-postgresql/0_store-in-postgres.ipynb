{
 "cells": [
  {
   "cell_type": "markdown",
   "id": "fd193072-b488-4892-9403-93f5305f7a60",
   "metadata": {},
   "source": [
    "# Store in PosgreSQL\n",
    "Test the storage requirements of PostgreSQL by launching a fresh database then evaluating the size of the resultant files"
   ]
  },
  {
   "cell_type": "code",
   "execution_count": 1,
   "id": "ed6153bb-8228-4063-a429-d87442ea5c52",
   "metadata": {},
   "outputs": [],
   "source": [
    "from datetime import datetime, timedelta\n",
    "from collections import defaultdict\n",
    "from subprocess import Popen, run\n",
    "from pathlib import Path\n",
    "from time import sleep\n",
    "import pandas as pd\n",
    "import numpy as np\n",
    "import psycopg\n",
    "import shutil\n",
    "import json\n",
    "import os"
   ]
  },
  {
   "cell_type": "markdown",
   "id": "1b929bbc-ca4a-448e-8130-8b5b49abb145",
   "metadata": {},
   "source": [
    "Configuration"
   ]
  },
  {
   "cell_type": "code",
   "execution_count": 2,
   "id": "bd94d412-f59e-4b77-a3ca-a48b368770b8",
   "metadata": {},
   "outputs": [],
   "source": [
    "to_store = {\n",
    "    'Current_A': 'NUMERIC(2)',\n",
    "    'Voltage_V': 'NUMERIC(2)',\n",
    "    'Cell_Temperature_C': 'NUMERIC(2)',\n",
    "    'Datetime': 'TIMESTAMP(3) with time zone'\n",
    "}\n",
    "rows = 10000"
   ]
  },
  {
   "cell_type": "code",
   "execution_count": 3,
   "id": "a1133dcb-61fd-4a6e-9806-b51fcf9b1fba",
   "metadata": {},
   "outputs": [],
   "source": [
    "db_path = Path('db')\n",
    "shutil.rmtree(db_path, ignore_errors=True)"
   ]
  },
  {
   "cell_type": "code",
   "execution_count": 4,
   "id": "c385c11c-cda3-4f13-8b7c-5620af860b9f",
   "metadata": {},
   "outputs": [],
   "source": [
    "os.environ['PGDATA'] = str(db_path.absolute())"
   ]
  },
  {
   "cell_type": "markdown",
   "id": "e7f8c83e-82a6-4315-8c01-4211dd06c43b",
   "metadata": {},
   "source": [
    "## Prepare PostgreSQL\n",
    "In a temporary directory that we can study later"
   ]
  },
  {
   "cell_type": "code",
   "execution_count": 5,
   "id": "e252ea49-77a1-432f-b6f6-ea3d42e909a8",
   "metadata": {},
   "outputs": [
    {
     "name": "stdout",
     "output_type": "stream",
     "text": [
      "The files belonging to this database system will be owned by user \"lward\".\n",
      "This user must also own the server process.\n",
      "\n",
      "The database cluster will be initialized with locale \"en_US.UTF-8\".\n",
      "The default database encoding has accordingly been set to \"UTF8\".\n",
      "The default text search configuration will be set to \"english\".\n",
      "\n",
      "Data page checksums are disabled.\n",
      "\n",
      "creating directory /home/lward/Work/ROVI/storage-requirement-estimation/evaluate-postgresql/db ... ok\n",
      "creating subdirectories ... ok\n",
      "selecting dynamic shared memory implementation ... posix\n",
      "selecting default max_connections ... 100\n",
      "selecting default shared_buffers ... 128MB\n",
      "selecting default time zone ... America/New_York\n",
      "creating configuration files ... ok\n",
      "running bootstrap script ... ok\n",
      "performing post-bootstrap initialization ... ok\n",
      "syncing data to disk ... ok\n",
      "\n",
      "\n",
      "Success. You can now start the database server using:\n",
      "\n",
      "    /home/lward/miniconda3/envs/rovireq/bin/pg_ctl -D /home/lward/Work/ROVI/storage-requirement-estimation/evaluate-postgresql/db -l logfile start\n",
      "\n"
     ]
    },
    {
     "name": "stderr",
     "output_type": "stream",
     "text": [
      "initdb: warning: enabling \"trust\" authentication for local connections\n",
      "You can change this by editing pg_hba.conf or using the option -A, or\n",
      "--auth-local and --auth-host, the next time you run initdb.\n"
     ]
    },
    {
     "data": {
      "text/plain": [
       "CompletedProcess(args=['pg_ctl', 'initdb'], returncode=0)"
      ]
     },
     "execution_count": 5,
     "metadata": {},
     "output_type": "execute_result"
    }
   ],
   "source": [
    "run(['pg_ctl', 'initdb'])"
   ]
  },
  {
   "cell_type": "markdown",
   "id": "804c77df-2507-4e5c-af17-d320916da361",
   "metadata": {},
   "source": [
    "## Load Example Data\n",
    "Use the XCEL data to for this experiment. We'll need to convert the measurement time column to a `datetime` so it can be treated using PostgreSQL's native time types"
   ]
  },
  {
   "cell_type": "code",
   "execution_count": 6,
   "id": "b891bd0d-27f9-4dbc-aece-18801b67ad63",
   "metadata": {},
   "outputs": [
    {
     "name": "stdout",
     "output_type": "stream",
     "text": [
      "Loaded 10000 rows of data\n"
     ]
    }
   ],
   "source": [
    "xcel = pd.read_csv('../example-data/xcel.csv')\n",
    "xcel = xcel.query('Cycle_Label != \"EIS\"').head(rows)\n",
    "print(f'Loaded {len(xcel)} rows of data')"
   ]
  },
  {
   "cell_type": "code",
   "execution_count": 7,
   "id": "4576a1c7-83d6-453d-b85d-7c5d9fb8d44b",
   "metadata": {},
   "outputs": [],
   "source": [
    "xcel['Datetime'] = xcel['Datenum_d'].apply(lambda x: datetime(year=1, month=1, day=1) + timedelta(days=x))"
   ]
  },
  {
   "cell_type": "markdown",
   "id": "8d94f780-55b7-429a-9873-3ab4c8205f24",
   "metadata": {},
   "source": [
    "## Save it to Database\n",
    "Create the table and then add all rows"
   ]
  },
  {
   "cell_type": "code",
   "execution_count": 8,
   "id": "cb35b5a1-1157-4bbb-83a4-c9f00448d6fa",
   "metadata": {},
   "outputs": [
    {
     "name": "stderr",
     "output_type": "stream",
     "text": [
      "2024-03-25 10:31:59.564 EDT [41452] LOG:  starting PostgreSQL 12.17 on x86_64-conda-linux-gnu, compiled by x86_64-conda-linux-gnu-cc (Anaconda gcc) 11.2.0, 64-bit\n",
      "2024-03-25 10:31:59.564 EDT [41452] LOG:  listening on IPv4 address \"127.0.0.1\", port 5432\n",
      "2024-03-25 10:31:59.565 EDT [41452] LOG:  listening on Unix socket \"/tmp/.s.PGSQL.5432\"\n",
      "2024-03-25 10:31:59.575 EDT [41453] LOG:  database system was shut down at 2024-03-25 10:31:59 EDT\n",
      "2024-03-25 10:31:59.578 EDT [41452] LOG:  database system is ready to accept connections\n"
     ]
    }
   ],
   "source": [
    "psql_proc = Popen(['postgres', '-D', db_path.absolute()])\n",
    "sleep(2)  # For the database to come online"
   ]
  },
  {
   "cell_type": "code",
   "execution_count": 9,
   "id": "e74cb880-04fb-4f4c-8f1b-8df1625a9486",
   "metadata": {},
   "outputs": [
    {
     "name": "stderr",
     "output_type": "stream",
     "text": [
      "2024-03-25 10:32:02.305 EDT [41452] LOG:  received smart shutdown request\n",
      "2024-03-25 10:32:02.307 EDT [41452] LOG:  background worker \"logical replication launcher\" (PID 41459) exited with exit code 1\n",
      "2024-03-25 10:32:02.307 EDT [41454] LOG:  shutting down\n",
      "2024-03-25 10:32:02.320 EDT [41452] LOG:  database system is shut down\n"
     ]
    }
   ],
   "source": [
    "try:\n",
    "    with psycopg.connect('postgres://127.0.0.1:5432', dbname='postgres') as conn:\n",
    "        # Create the table with the required types\n",
    "        type_str = \"\\n,\\t\".join(k + \" \" + v for k, v in to_store.items())\n",
    "        conn.execute(f'''CREATE TABLE data (\n",
    "            {type_str}\n",
    "        );''')\n",
    "    \n",
    "        # Insert data\n",
    "        with conn.cursor() as cur:\n",
    "            value_keys = \", \".join(f\"%({k})s\" for k in to_store.keys())\n",
    "            cur.executemany(\n",
    "                f'INSERT INTO data ({\", \".join(to_store.keys())}) VALUES ({value_keys});',\n",
    "                (r.to_dict() for _, r in xcel.iterrows())\n",
    "            )\n",
    "finally:\n",
    "    psql_proc.terminate()\n",
    "    sleep(2) # For any bits to finish writing"
   ]
  },
  {
   "cell_type": "markdown",
   "id": "19209d27-a866-4aa3-9538-1d23c217c57a",
   "metadata": {},
   "source": [
    "## Measure Size\n",
    "Count the size using `du` and report it Bytes"
   ]
  },
  {
   "cell_type": "code",
   "execution_count": 10,
   "id": "669466f0-e586-450b-b222-25eef11c50eb",
   "metadata": {},
   "outputs": [],
   "source": [
    "du = run(['du', '--apparent-size', '--block-size=1', '-cs', db_path], capture_output=True, text=True)"
   ]
  },
  {
   "cell_type": "code",
   "execution_count": 11,
   "id": "bf59d695-db35-4ae7-95d9-f8fbfa204f49",
   "metadata": {},
   "outputs": [],
   "source": [
    "total_size = int(du.stdout.split(\"\\n\")[0].split()[0])"
   ]
  },
  {
   "cell_type": "markdown",
   "id": "75c556cf-9434-485f-8aaf-1f125eeb0727",
   "metadata": {},
   "source": [
    "Save results"
   ]
  },
  {
   "cell_type": "code",
   "execution_count": 12,
   "id": "32b0def7-75bd-4d74-bb43-e76e0190dadc",
   "metadata": {},
   "outputs": [],
   "source": [
    "with open('storage-results.json', 'a') as fp:\n",
    "        print(json.dumps({\n",
    "            'rows': rows,\n",
    "            'columns': list(to_store.keys()),\n",
    "            'schema': dict((k, str(v)) for k, v in to_store.items()),\n",
    "            'size': total_size\n",
    "        }), file=fp)"
   ]
  },
  {
   "cell_type": "code",
   "execution_count": null,
   "id": "e5d38e82-e38f-4fe6-9c17-8ca28c453722",
   "metadata": {},
   "outputs": [],
   "source": []
  }
 ],
 "metadata": {
  "kernelspec": {
   "display_name": "Python 3 (ipykernel)",
   "language": "python",
   "name": "python3"
  },
  "language_info": {
   "codemirror_mode": {
    "name": "ipython",
    "version": 3
   },
   "file_extension": ".py",
   "mimetype": "text/x-python",
   "name": "python",
   "nbconvert_exporter": "python",
   "pygments_lexer": "ipython3",
   "version": "3.10.14"
  }
 },
 "nbformat": 4,
 "nbformat_minor": 5
}
