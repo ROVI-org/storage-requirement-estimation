{
 "cells": [
  {
   "cell_type": "markdown",
   "id": "94147c60-3153-4129-996d-2e84c4576416",
   "metadata": {},
   "source": [
    "# Get Example Data\n",
    "We are gong to emulate a stream of data from a ROVI vendor by using cell testing data from a DOE lab."
   ]
  },
  {
   "cell_type": "code",
   "execution_count": null,
   "id": "37ec1104-2981-4a05-9308-e66be988a8dc",
   "metadata": {},
   "outputs": [],
   "source": [
    "from pathlib import Path\n",
    "import requests"
   ]
  },
  {
   "cell_type": "markdown",
   "id": "c24e659d-3f1e-4a38-af1d-5398e1ace0a1",
   "metadata": {},
   "source": [
    "Configuration"
   ]
  },
  {
   "cell_type": "code",
   "execution_count": null,
   "id": "a6bec990-c6dc-433a-8a19-848901b8ad41",
   "metadata": {},
   "outputs": [],
   "source": [
    "out_dir = Path('example-data')"
   ]
  },
  {
   "cell_type": "code",
   "execution_count": null,
   "id": "a739f9fa-7015-423b-9501-f0e2892c763f",
   "metadata": {},
   "outputs": [],
   "source": [
    "out_dir.mkdir(exist_ok=True)"
   ]
  },
  {
   "cell_type": "markdown",
   "id": "d3f30ce6-8b3b-41a0-9266-b6c30061e629",
   "metadata": {},
   "source": [
    "## XCEL Data\n",
    "XCEL contains cycling experiment which include both aging cycles, reference performance tests, and EIS data.\n",
    "\n",
    "We'll start with the [XCEL dataset from BatteryData.Energy.Gov](https://batterydata.energy.gov/dataset/ea88416d-bbe8-4d27-97ab-ef96745b4e4f/resource/889c841e-9826-4d4b-ba64-edba3d2c6b28/download/p492-13-raw.csv)"
   ]
  },
  {
   "cell_type": "code",
   "execution_count": null,
   "id": "c0b5ccac-f2de-48a1-9425-8db075038469",
   "metadata": {},
   "outputs": [],
   "source": [
    "url = 'https://batterydata.energy.gov/dataset/ea88416d-bbe8-4d27-97ab-ef96745b4e4f/resource/889c841e-9826-4d4b-ba64-edba3d2c6b28/download/p492-13-raw.csv'"
   ]
  },
  {
   "cell_type": "code",
   "execution_count": null,
   "id": "3ae91dad-ec63-4e6a-8048-3bb41945159e",
   "metadata": {},
   "outputs": [],
   "source": [
    "res = requests.get(url, stream=True)\n",
    "with out_dir.joinpath('xcel.csv').open('wb') as fp:\n",
    "    for chunk in res.iter_content(1024 * 1024):\n",
    "        fp.write(chunk)"
   ]
  },
  {
   "cell_type": "code",
   "execution_count": null,
   "id": "519a294d-b628-4763-93a8-91d0dec904c3",
   "metadata": {},
   "outputs": [],
   "source": []
  }
 ],
 "metadata": {
  "kernelspec": {
   "display_name": "Python 3 (ipykernel)",
   "language": "python",
   "name": "python3"
  },
  "language_info": {
   "codemirror_mode": {
    "name": "ipython",
    "version": 3
   },
   "file_extension": ".py",
   "mimetype": "text/x-python",
   "name": "python",
   "nbconvert_exporter": "python",
   "pygments_lexer": "ipython3",
   "version": "3.10.13"
  }
 },
 "nbformat": 4,
 "nbformat_minor": 5
}
