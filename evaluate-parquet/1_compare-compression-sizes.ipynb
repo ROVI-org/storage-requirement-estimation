{
 "cells": [
  {
   "cell_type": "markdown",
   "id": "8c9a0fb5-f9d7-4398-acd6-f776e3ab3a1b",
   "metadata": {},
   "source": [
    "# Compare the Sizes of Data Files\n",
    "Show the effect of different compression settings on file size"
   ]
  },
  {
   "cell_type": "code",
   "execution_count": 1,
   "id": "ea618429-9627-471b-8e28-36f40ec47cde",
   "metadata": {},
   "outputs": [],
   "source": [
    "%matplotlib inline\n",
    "from matplotlib import pyplot as plt\n",
    "import pandas as pd"
   ]
  },
  {
   "cell_type": "markdown",
   "id": "b0e433e1-1ff0-4081-be04-63b8e49b8fb7",
   "metadata": {},
   "source": [
    "Configuration"
   ]
  },
  {
   "cell_type": "markdown",
   "id": "190835d6-850a-4a99-b388-663ae051c976",
   "metadata": {},
   "source": [
    "## Load Results\n",
    "Load the results from previous tests"
   ]
  },
  {
   "cell_type": "code",
   "execution_count": 2,
   "id": "f041ce6e-3bd9-4398-ac7d-d35cefa8dae9",
   "metadata": {},
   "outputs": [],
   "source": [
    "results = pd.read_json('storage-results.json', lines=True)\n",
    "results['bytes_per_row'] = results['size'] / results['rows']"
   ]
  },
  {
   "cell_type": "markdown",
   "id": "a1fefce2-8983-440a-94e3-70d8ce948fa1",
   "metadata": {},
   "source": [
    "Assign a \"None\" value to missing compression_sizes"
   ]
  },
  {
   "cell_type": "code",
   "execution_count": 3,
   "id": "561445ca-1dce-46e9-ad39-b2061356681b",
   "metadata": {},
   "outputs": [],
   "source": [
    "results.loc[results['compression_level'].isnull(), 'compression_level'] = 0"
   ]
  },
  {
   "cell_type": "markdown",
   "id": "4e6f1ce1-948a-41fb-8bac-5d80cda408b2",
   "metadata": {},
   "source": [
    "Assign a label to each type of test"
   ]
  },
  {
   "cell_type": "code",
   "execution_count": 4,
   "id": "9f65b903-84e4-4d97-99fa-11fa68f8a65e",
   "metadata": {},
   "outputs": [],
   "source": [
    "results['float_size'] = results['schema'].apply(lambda x: x['Current_A'])"
   ]
  },
  {
   "cell_type": "code",
   "execution_count": 5,
   "id": "0379d36e-857d-4e78-a1b8-aaa9018fadbd",
   "metadata": {},
   "outputs": [],
   "source": [
    "results['test_id'] = None\n",
    "for i, (_, group) in enumerate(results.groupby(['float_size', 'compression', 'compression_level'])):\n",
    "    results.loc[group.index, 'test_id'] = i"
   ]
  },
  {
   "cell_type": "markdown",
   "id": "fb0df2d5-a35b-4961-b19d-0321ecc2b0df",
   "metadata": {},
   "source": [
    "## Effect of Float Size\n",
    "See how the storage size is affected by float size"
   ]
  },
  {
   "cell_type": "code",
   "execution_count": 6,
   "id": "c509a7ea-4358-4c83-8e80-89247a0a3988",
   "metadata": {},
   "outputs": [
    {
     "data": {
      "text/html": [
       "<div>\n",
       "<style scoped>\n",
       "    .dataframe tbody tr th:only-of-type {\n",
       "        vertical-align: middle;\n",
       "    }\n",
       "\n",
       "    .dataframe tbody tr th {\n",
       "        vertical-align: top;\n",
       "    }\n",
       "\n",
       "    .dataframe thead th {\n",
       "        text-align: right;\n",
       "    }\n",
       "</style>\n",
       "<table border=\"1\" class=\"dataframe\">\n",
       "  <thead>\n",
       "    <tr style=\"text-align: right;\">\n",
       "      <th></th>\n",
       "      <th>rows</th>\n",
       "      <th>columns</th>\n",
       "      <th>schema</th>\n",
       "      <th>compression</th>\n",
       "      <th>size</th>\n",
       "      <th>compression_level</th>\n",
       "      <th>bytes_per_row</th>\n",
       "      <th>float_size</th>\n",
       "      <th>test_id</th>\n",
       "    </tr>\n",
       "  </thead>\n",
       "  <tbody>\n",
       "    <tr>\n",
       "      <th>0</th>\n",
       "      <td>1000</td>\n",
       "      <td>[Current_A, Voltage_V, Cell_Temperature_C, Dat...</td>\n",
       "      <td>{'Current_A': 'float', 'Voltage_V': 'float', '...</td>\n",
       "      <td>NONE</td>\n",
       "      <td>17232</td>\n",
       "      <td>0.0</td>\n",
       "      <td>17.232000</td>\n",
       "      <td>float</td>\n",
       "      <td>7</td>\n",
       "    </tr>\n",
       "    <tr>\n",
       "      <th>1</th>\n",
       "      <td>3000</td>\n",
       "      <td>[Current_A, Voltage_V, Cell_Temperature_C, Dat...</td>\n",
       "      <td>{'Current_A': 'float', 'Voltage_V': 'float', '...</td>\n",
       "      <td>NONE</td>\n",
       "      <td>47334</td>\n",
       "      <td>0.0</td>\n",
       "      <td>15.778000</td>\n",
       "      <td>float</td>\n",
       "      <td>7</td>\n",
       "    </tr>\n",
       "    <tr>\n",
       "      <th>2</th>\n",
       "      <td>10000</td>\n",
       "      <td>[Current_A, Voltage_V, Cell_Temperature_C, Dat...</td>\n",
       "      <td>{'Current_A': 'float', 'Voltage_V': 'float', '...</td>\n",
       "      <td>NONE</td>\n",
       "      <td>145157</td>\n",
       "      <td>0.0</td>\n",
       "      <td>14.515700</td>\n",
       "      <td>float</td>\n",
       "      <td>7</td>\n",
       "    </tr>\n",
       "    <tr>\n",
       "      <th>3</th>\n",
       "      <td>30000</td>\n",
       "      <td>[Current_A, Voltage_V, Cell_Temperature_C, Dat...</td>\n",
       "      <td>{'Current_A': 'float', 'Voltage_V': 'float', '...</td>\n",
       "      <td>NONE</td>\n",
       "      <td>415020</td>\n",
       "      <td>0.0</td>\n",
       "      <td>13.834000</td>\n",
       "      <td>float</td>\n",
       "      <td>7</td>\n",
       "    </tr>\n",
       "    <tr>\n",
       "      <th>12</th>\n",
       "      <td>1000</td>\n",
       "      <td>[Current_A, Voltage_V, Cell_Temperature_C, Dat...</td>\n",
       "      <td>{'Current_A': 'double', 'Voltage_V': 'double',...</td>\n",
       "      <td>NONE</td>\n",
       "      <td>21292</td>\n",
       "      <td>0.0</td>\n",
       "      <td>21.292000</td>\n",
       "      <td>double</td>\n",
       "      <td>3</td>\n",
       "    </tr>\n",
       "    <tr>\n",
       "      <th>13</th>\n",
       "      <td>3000</td>\n",
       "      <td>[Current_A, Voltage_V, Cell_Temperature_C, Dat...</td>\n",
       "      <td>{'Current_A': 'double', 'Voltage_V': 'double',...</td>\n",
       "      <td>NONE</td>\n",
       "      <td>56426</td>\n",
       "      <td>0.0</td>\n",
       "      <td>18.808667</td>\n",
       "      <td>double</td>\n",
       "      <td>3</td>\n",
       "    </tr>\n",
       "    <tr>\n",
       "      <th>14</th>\n",
       "      <td>10000</td>\n",
       "      <td>[Current_A, Voltage_V, Cell_Temperature_C, Dat...</td>\n",
       "      <td>{'Current_A': 'double', 'Voltage_V': 'double',...</td>\n",
       "      <td>NONE</td>\n",
       "      <td>162355</td>\n",
       "      <td>0.0</td>\n",
       "      <td>16.235500</td>\n",
       "      <td>double</td>\n",
       "      <td>3</td>\n",
       "    </tr>\n",
       "    <tr>\n",
       "      <th>15</th>\n",
       "      <td>30000</td>\n",
       "      <td>[Current_A, Voltage_V, Cell_Temperature_C, Dat...</td>\n",
       "      <td>{'Current_A': 'double', 'Voltage_V': 'double',...</td>\n",
       "      <td>NONE</td>\n",
       "      <td>439600</td>\n",
       "      <td>0.0</td>\n",
       "      <td>14.653333</td>\n",
       "      <td>double</td>\n",
       "      <td>3</td>\n",
       "    </tr>\n",
       "    <tr>\n",
       "      <th>40</th>\n",
       "      <td>1000</td>\n",
       "      <td>[Current_A, Voltage_V, Cell_Temperature_C, Dat...</td>\n",
       "      <td>{'Current_A': 'uint16', 'Voltage_V': 'uint16',...</td>\n",
       "      <td>NONE</td>\n",
       "      <td>11082</td>\n",
       "      <td>0.0</td>\n",
       "      <td>11.082000</td>\n",
       "      <td>uint16</td>\n",
       "      <td>11</td>\n",
       "    </tr>\n",
       "    <tr>\n",
       "      <th>41</th>\n",
       "      <td>3000</td>\n",
       "      <td>[Current_A, Voltage_V, Cell_Temperature_C, Dat...</td>\n",
       "      <td>{'Current_A': 'uint16', 'Voltage_V': 'uint16',...</td>\n",
       "      <td>NONE</td>\n",
       "      <td>30190</td>\n",
       "      <td>0.0</td>\n",
       "      <td>10.063333</td>\n",
       "      <td>uint16</td>\n",
       "      <td>11</td>\n",
       "    </tr>\n",
       "    <tr>\n",
       "      <th>42</th>\n",
       "      <td>10000</td>\n",
       "      <td>[Current_A, Voltage_V, Cell_Temperature_C, Dat...</td>\n",
       "      <td>{'Current_A': 'uint16', 'Voltage_V': 'uint16',...</td>\n",
       "      <td>NONE</td>\n",
       "      <td>99042</td>\n",
       "      <td>0.0</td>\n",
       "      <td>9.904200</td>\n",
       "      <td>uint16</td>\n",
       "      <td>11</td>\n",
       "    </tr>\n",
       "    <tr>\n",
       "      <th>43</th>\n",
       "      <td>30000</td>\n",
       "      <td>[Current_A, Voltage_V, Cell_Temperature_C, Dat...</td>\n",
       "      <td>{'Current_A': 'uint16', 'Voltage_V': 'uint16',...</td>\n",
       "      <td>NONE</td>\n",
       "      <td>295708</td>\n",
       "      <td>0.0</td>\n",
       "      <td>9.856933</td>\n",
       "      <td>uint16</td>\n",
       "      <td>11</td>\n",
       "    </tr>\n",
       "  </tbody>\n",
       "</table>\n",
       "</div>"
      ],
      "text/plain": [
       "     rows                                            columns  \\\n",
       "0    1000  [Current_A, Voltage_V, Cell_Temperature_C, Dat...   \n",
       "1    3000  [Current_A, Voltage_V, Cell_Temperature_C, Dat...   \n",
       "2   10000  [Current_A, Voltage_V, Cell_Temperature_C, Dat...   \n",
       "3   30000  [Current_A, Voltage_V, Cell_Temperature_C, Dat...   \n",
       "12   1000  [Current_A, Voltage_V, Cell_Temperature_C, Dat...   \n",
       "13   3000  [Current_A, Voltage_V, Cell_Temperature_C, Dat...   \n",
       "14  10000  [Current_A, Voltage_V, Cell_Temperature_C, Dat...   \n",
       "15  30000  [Current_A, Voltage_V, Cell_Temperature_C, Dat...   \n",
       "40   1000  [Current_A, Voltage_V, Cell_Temperature_C, Dat...   \n",
       "41   3000  [Current_A, Voltage_V, Cell_Temperature_C, Dat...   \n",
       "42  10000  [Current_A, Voltage_V, Cell_Temperature_C, Dat...   \n",
       "43  30000  [Current_A, Voltage_V, Cell_Temperature_C, Dat...   \n",
       "\n",
       "                                               schema compression    size  \\\n",
       "0   {'Current_A': 'float', 'Voltage_V': 'float', '...        NONE   17232   \n",
       "1   {'Current_A': 'float', 'Voltage_V': 'float', '...        NONE   47334   \n",
       "2   {'Current_A': 'float', 'Voltage_V': 'float', '...        NONE  145157   \n",
       "3   {'Current_A': 'float', 'Voltage_V': 'float', '...        NONE  415020   \n",
       "12  {'Current_A': 'double', 'Voltage_V': 'double',...        NONE   21292   \n",
       "13  {'Current_A': 'double', 'Voltage_V': 'double',...        NONE   56426   \n",
       "14  {'Current_A': 'double', 'Voltage_V': 'double',...        NONE  162355   \n",
       "15  {'Current_A': 'double', 'Voltage_V': 'double',...        NONE  439600   \n",
       "40  {'Current_A': 'uint16', 'Voltage_V': 'uint16',...        NONE   11082   \n",
       "41  {'Current_A': 'uint16', 'Voltage_V': 'uint16',...        NONE   30190   \n",
       "42  {'Current_A': 'uint16', 'Voltage_V': 'uint16',...        NONE   99042   \n",
       "43  {'Current_A': 'uint16', 'Voltage_V': 'uint16',...        NONE  295708   \n",
       "\n",
       "    compression_level  bytes_per_row float_size test_id  \n",
       "0                 0.0      17.232000      float       7  \n",
       "1                 0.0      15.778000      float       7  \n",
       "2                 0.0      14.515700      float       7  \n",
       "3                 0.0      13.834000      float       7  \n",
       "12                0.0      21.292000     double       3  \n",
       "13                0.0      18.808667     double       3  \n",
       "14                0.0      16.235500     double       3  \n",
       "15                0.0      14.653333     double       3  \n",
       "40                0.0      11.082000     uint16      11  \n",
       "41                0.0      10.063333     uint16      11  \n",
       "42                0.0       9.904200     uint16      11  \n",
       "43                0.0       9.856933     uint16      11  "
      ]
     },
     "execution_count": 6,
     "metadata": {},
     "output_type": "execute_result"
    }
   ],
   "source": [
    "no_compression = results.query('compression == \"NONE\"')\n",
    "no_compression"
   ]
  },
  {
   "cell_type": "code",
   "execution_count": 7,
   "id": "60bf3dd7-92c4-42af-a815-1710304c74a8",
   "metadata": {},
   "outputs": [
    {
     "data": {
      "text/plain": [
       "Text(0, 0.5, 'Cost (Bytes/row)')"
      ]
     },
     "execution_count": 7,
     "metadata": {},
     "output_type": "execute_result"
    },
    {
     "data": {
      "image/png": "[encoded data removed]",
      "text/plain": [
       "<Figure size 350x250 with 1 Axes>"
      ]
     },
     "metadata": {},
     "output_type": "display_data"
    }
   ],
   "source": [
    "fig, ax = plt.subplots(figsize=(3.5, 2.5))\n",
    "\n",
    "for gid, group in no_compression.groupby('float_size'):\n",
    "    ax.semilogx(group['rows'], group['bytes_per_row'], '--o', label=gid)\n",
    "\n",
    "\n",
    "ax.legend()\n",
    "\n",
    "ax.set_xlabel('Rows')\n",
    "ax.set_ylabel('Cost (Bytes/row)')"
   ]
  },
  {
   "cell_type": "markdown",
   "id": "7e2c606b-f367-4b07-8c19-ce61705b9703",
   "metadata": {},
   "source": [
    "Single precision doesn't save us _much_, given that part of the storage cost is driven by datetime signature"
   ]
  },
  {
   "cell_type": "markdown",
   "id": "3d7e9e0b-43d6-4308-8f5c-707e1c1e9813",
   "metadata": {},
   "source": [
    "## Effect of Compression\n",
    "Large files should compress better, to a point."
   ]
  },
  {
   "cell_type": "code",
   "execution_count": 8,
   "id": "8556922e-a1b6-4229-9da1-7b37d6d1ff21",
   "metadata": {},
   "outputs": [],
   "source": [
    "no_compression = results.query('compression == \"NONE\"')"
   ]
  },
  {
   "cell_type": "code",
   "execution_count": 10,
   "id": "bc7cda89-b2e0-4ba5-9def-fbc195f70a78",
   "metadata": {},
   "outputs": [
    {
     "data": {
      "image/png": "[encoded data removed]",
      "text/plain": [
       "<Figure size 840x200 with 3 Axes>"
      ]
     },
     "metadata": {},
     "output_type": "display_data"
    }
   ],
   "source": [
    "fig, axs = plt.subplots(1, 3, figsize=(8.4, 2.), sharey=True)\n",
    "\n",
    "for ax, float_size in zip(axs, ['uint16', 'float', 'double']):\n",
    "    subset = results.query(f'float_size == \"{float_size}\"')\n",
    "    ax.set_title(f'Float: {float_size}', loc='left', fontsize=9)\n",
    "    for gid, group in subset.groupby('compression'):\n",
    "        group = group.groupby('rows')['bytes_per_row'].min()\n",
    "        ax.semilogx(group.index, group, '--o', label=gid)\n",
    "\n",
    "    ax.legend(fontsize=6, ncol=2)\n",
    "    ax.set_xlabel('Rows')\n",
    "axs[0].set_ylabel('Cost (Bytes/row)')\n",
    "fig.tight_layout()\n",
    "\n",
    "fig.savefig('summary.png', dpi=320)"
   ]
  },
  {
   "cell_type": "markdown",
   "id": "e39a4908-0be6-453d-b36a-5ae246c9d668",
   "metadata": {},
   "source": [
    "We can get to sub 10 bytes/row when compressing with BROTLI whether we store in full compression or not and as low as 5 bytes per row with storing as int"
   ]
  },
  {
   "cell_type": "code",
   "execution_count": null,
   "id": "3a2ae729-99c4-450d-b376-221ccc2f7e02",
   "metadata": {},
   "outputs": [],
   "source": []
  }
 ],
 "metadata": {
  "kernelspec": {
   "display_name": "Python 3 (ipykernel)",
   "language": "python",
   "name": "python3"
  },
  "language_info": {
   "codemirror_mode": {
    "name": "ipython",
    "version": 3
   },
   "file_extension": ".py",
   "mimetype": "text/x-python",
   "name": "python",
   "nbconvert_exporter": "python",
   "pygments_lexer": "ipython3",
   "version": "3.10.13"
  }
 },
 "nbformat": 4,
 "nbformat_minor": 5
}
