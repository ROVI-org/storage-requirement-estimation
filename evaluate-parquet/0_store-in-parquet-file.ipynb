{
 "cells": [
  {
   "cell_type": "markdown",
   "id": "fd193072-b488-4892-9403-93f5305f7a60",
   "metadata": {},
   "source": [
    "# Store in Parquet Files\n",
    "We'll use PyArrow to write data to a Parquet file in specific formats"
   ]
  },
  {
   "cell_type": "code",
   "execution_count": 1,
   "id": "ed6153bb-8228-4063-a429-d87442ea5c52",
   "metadata": {},
   "outputs": [],
   "source": [
    "from datetime import datetime, timedelta\n",
    "from tempfile import TemporaryDirectory\n",
    "from pyarrow.parquet import write_table\n",
    "from collections import defaultdict\n",
    "from pathlib import Path\n",
    "import pyarrow as pa\n",
    "import pandas as pd\n",
    "import numpy as np\n",
    "import json"
   ]
  },
  {
   "cell_type": "markdown",
   "id": "1b929bbc-ca4a-448e-8130-8b5b49abb145",
   "metadata": {},
   "source": [
    "Configuration"
   ]
  },
  {
   "cell_type": "code",
   "execution_count": 2,
   "id": "b2725423-4511-4080-a4c5-1c0d0184c999",
   "metadata": {},
   "outputs": [],
   "source": [
    "to_store = {\n",
    "    'Current_A': pa.uint16(),\n",
    "    'Voltage_V': pa.uint16(),\n",
    "    'Cell_Temperature_C': pa.uint16(),\n",
    "    'Datetime': pa.timestamp('ms')\n",
    "}\n",
    "compression = {'compression': 'SNAPPY'}"
   ]
  },
  {
   "cell_type": "code",
   "execution_count": 3,
   "id": "c385c11c-cda3-4f13-8b7c-5620af860b9f",
   "metadata": {},
   "outputs": [
    {
     "data": {
      "text/plain": [
       "{'Current_A': DataType(uint16),\n",
       " 'Voltage_V': DataType(uint16),\n",
       " 'Cell_Temperature_C': DataType(uint16),\n",
       " 'Datetime': TimestampType(timestamp[ms])}"
      ]
     },
     "execution_count": 3,
     "metadata": {},
     "output_type": "execute_result"
    }
   ],
   "source": [
    "to_store"
   ]
  },
  {
   "cell_type": "markdown",
   "id": "804c77df-2507-4e5c-af17-d320916da361",
   "metadata": {},
   "source": [
    "## Load Example Data\n",
    "Use the XCEL data to for this experiment. We'll need to convert the measurement time column to a `datetime` so it'll convert with PyArrow into a Parquet date format"
   ]
  },
  {
   "cell_type": "code",
   "execution_count": 4,
   "id": "b891bd0d-27f9-4dbc-aece-18801b67ad63",
   "metadata": {},
   "outputs": [],
   "source": [
    "xcel = pd.read_csv('../example-data/xcel.csv')\n",
    "xcel.query('Cycle_Label != \"EIS\"', inplace=True)  # Don't bother here"
   ]
  },
  {
   "cell_type": "code",
   "execution_count": 5,
   "id": "4576a1c7-83d6-453d-b85d-7c5d9fb8d44b",
   "metadata": {},
   "outputs": [],
   "source": [
    "xcel['Datetime'] = xcel['Datenum_d'].apply(lambda x: datetime(year=1, month=1, day=1) + timedelta(days=x))"
   ]
  },
  {
   "cell_type": "markdown",
   "id": "8d94f780-55b7-429a-9873-3ab4c8205f24",
   "metadata": {},
   "source": [
    "Run the casting"
   ]
  },
  {
   "cell_type": "code",
   "execution_count": 6,
   "id": "5a3038bb-edb9-42b9-841a-5761cd724972",
   "metadata": {},
   "outputs": [],
   "source": [
    "metadata = dict()\n",
    "for c, t in to_store.items():\n",
    "    if 'int' in str(t):\n",
    "        d_max = np.ceil(xcel[c].max())\n",
    "        d_min = np.floor(xcel[c].min())\n",
    "        xcel[c] = np.round((xcel[c] - d_min) / (d_max - d_min)).astype(t.to_pandas_dtype())\n",
    "        metadata[f'ranges_{c}'] = str([d_min, d_max])\n",
    "                           \n",
    "    xcel[c] = np.array(xcel[c], dtype=t.to_pandas_dtype())"
   ]
  },
  {
   "cell_type": "markdown",
   "id": "02559801-950c-4aca-b96d-384e7b388401",
   "metadata": {},
   "source": [
    "## Save into Parquet\n",
    "First convert to Table, then write using the above-provided schema"
   ]
  },
  {
   "cell_type": "code",
   "execution_count": 7,
   "id": "7c8e2634-bb4d-4601-96bc-275b7ed4b256",
   "metadata": {},
   "outputs": [],
   "source": [
    "table = pa.Table.from_pandas(xcel[list(to_store.keys())], preserve_index=False)"
   ]
  },
  {
   "cell_type": "markdown",
   "id": "4c95147b-ca04-47c7-a163-1c6b0170e43e",
   "metadata": {},
   "source": [
    "Apply the new schema"
   ]
  },
  {
   "cell_type": "code",
   "execution_count": 8,
   "id": "9c2e85d1-1bc7-4855-af12-363bb35b7ea5",
   "metadata": {},
   "outputs": [
    {
     "data": {
      "text/plain": [
       "Current_A: uint16\n",
       "Voltage_V: uint16\n",
       "Cell_Temperature_C: uint16\n",
       "Datetime: timestamp[ms]\n",
       "-- schema metadata --\n",
       "ranges_Current_A: '[-1.0, 1.0]'\n",
       "ranges_Voltage_V: '[2.0, 5.0]'\n",
       "ranges_Cell_Temperature_C: '[29.0, 31.0]'"
      ]
     },
     "execution_count": 8,
     "metadata": {},
     "output_type": "execute_result"
    }
   ],
   "source": [
    "table = table.cast(pa.schema(to_store, metadata=metadata), safe=False)\n",
    "table.schema"
   ]
  },
  {
   "cell_type": "code",
   "execution_count": 9,
   "id": "c3f1c606-40af-411b-a92e-f9c085543654",
   "metadata": {},
   "outputs": [],
   "source": [
    "for rows in [1000, 3000, 10000, 30000]:\n",
    "    with TemporaryDirectory() as tmp:\n",
    "        tmp = Path(tmp)\n",
    "        write_table(\n",
    "            table.slice(length=rows), \n",
    "            tmp / 'test.parquet',\n",
    "            **compression)\n",
    "    \n",
    "        # Get the total storage size\n",
    "        total_size = 0\n",
    "        for path in tmp.iterdir():\n",
    "            if path.is_file():\n",
    "                total_size += path.stat().st_size\n",
    "    \n",
    "    # Save the result\n",
    "    with open('storage-results.json', 'a') as fp:\n",
    "        print(json.dumps({\n",
    "            'rows': rows,\n",
    "            'columns': list(to_store.keys()),\n",
    "            'schema': dict((k, str(v)) for k, v in to_store.items()),\n",
    "            **compression,\n",
    "            'size': total_size\n",
    "        }), file=fp)"
   ]
  },
  {
   "cell_type": "code",
   "execution_count": null,
   "id": "dbb3a142-e5b2-46ae-b644-3c6e7379329c",
   "metadata": {},
   "outputs": [],
   "source": []
  }
 ],
 "metadata": {
  "kernelspec": {
   "display_name": "Python 3 (ipykernel)",
   "language": "python",
   "name": "python3"
  },
  "language_info": {
   "codemirror_mode": {
    "name": "ipython",
    "version": 3
   },
   "file_extension": ".py",
   "mimetype": "text/x-python",
   "name": "python",
   "nbconvert_exporter": "python",
   "pygments_lexer": "ipython3",
   "version": "3.10.13"
  }
 },
 "nbformat": 4,
 "nbformat_minor": 5
}
