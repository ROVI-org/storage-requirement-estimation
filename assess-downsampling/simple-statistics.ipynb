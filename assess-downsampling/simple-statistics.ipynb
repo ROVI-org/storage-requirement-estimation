{
 "cells": [
  {
   "cell_type": "markdown",
   "id": "0c64fc80-db4f-4f6a-8d71-9e413ec1fc32",
   "metadata": {},
   "source": [
    "# Measure Simple Statistics of Precision Loss\n",
    "What's the average error of our measurements? How does that effect easily-derivable quantities, like the integral of charge over cycle? "
   ]
  },
  {
   "cell_type": "code",
   "execution_count": 1,
   "id": "8e961af4-a031-4425-acc7-141c3572e6ee",
   "metadata": {},
   "outputs": [],
   "source": [
    "%matplotlib inline\n",
    "from matplotlib import pyplot as plt\n",
    "from pathlib import Path\n",
    "import pandas as pd\n",
    "import numpy as np"
   ]
  },
  {
   "cell_type": "markdown",
   "id": "3e550ae9-cbde-44cf-bd68-e8a7fd1c36b4",
   "metadata": {},
   "source": [
    "Configuration"
   ]
  },
  {
   "cell_type": "code",
   "execution_count": 2,
   "id": "d09cd4d9-4919-4e05-9fc8-817e860d749c",
   "metadata": {},
   "outputs": [],
   "source": [
    "reference = Path('reduced-datasets/fulltime-float64.pkl')"
   ]
  },
  {
   "cell_type": "markdown",
   "id": "3a8bc59d-de0d-44f9-8418-402c2913bc9d",
   "metadata": {},
   "source": [
    "## Make a Utility Function\n",
    "Make a function that iterates over the datasets at reduced precisions"
   ]
  },
  {
   "cell_type": "code",
   "execution_count": 3,
   "id": "8787669f-dbef-46fb-8654-d56ba279f19b",
   "metadata": {},
   "outputs": [],
   "source": [
    "full_prec = pd.read_pickle(reference)"
   ]
  },
  {
   "cell_type": "code",
   "execution_count": 4,
   "id": "af79966b-d8be-4828-ac63-7c88b7575829",
   "metadata": {},
   "outputs": [
    {
     "data": {
      "text/html": [
       "<div>\n",
       "<style scoped>\n",
       "    .dataframe tbody tr th:only-of-type {\n",
       "        vertical-align: middle;\n",
       "    }\n",
       "\n",
       "    .dataframe tbody tr th {\n",
       "        vertical-align: top;\n",
       "    }\n",
       "\n",
       "    .dataframe thead th {\n",
       "        text-align: right;\n",
       "    }\n",
       "</style>\n",
       "<table border=\"1\" class=\"dataframe\">\n",
       "  <thead>\n",
       "    <tr style=\"text-align: right;\">\n",
       "      <th></th>\n",
       "      <th>Datetime</th>\n",
       "      <th>Current_A</th>\n",
       "      <th>Voltage_V</th>\n",
       "      <th>Cell_Temperature_C</th>\n",
       "    </tr>\n",
       "  </thead>\n",
       "  <tbody>\n",
       "    <tr>\n",
       "      <th>0</th>\n",
       "      <td>2021-01-03 10:37:00.999980</td>\n",
       "      <td>0.0</td>\n",
       "      <td>3.276036</td>\n",
       "      <td>29.7005</td>\n",
       "    </tr>\n",
       "    <tr>\n",
       "      <th>1</th>\n",
       "      <td>2021-01-03 10:37:00.999980</td>\n",
       "      <td>0.0</td>\n",
       "      <td>3.271916</td>\n",
       "      <td>29.7005</td>\n",
       "    </tr>\n",
       "    <tr>\n",
       "      <th>2</th>\n",
       "      <td>2021-01-03 10:37:04.999958</td>\n",
       "      <td>0.0</td>\n",
       "      <td>3.272068</td>\n",
       "      <td>29.7005</td>\n",
       "    </tr>\n",
       "    <tr>\n",
       "      <th>3</th>\n",
       "      <td>2021-01-03 10:37:04.999958</td>\n",
       "      <td>0.0</td>\n",
       "      <td>3.271458</td>\n",
       "      <td>29.7005</td>\n",
       "    </tr>\n",
       "    <tr>\n",
       "      <th>4</th>\n",
       "      <td>2021-01-03 10:37:12.000000</td>\n",
       "      <td>0.0</td>\n",
       "      <td>3.271916</td>\n",
       "      <td>29.7166</td>\n",
       "    </tr>\n",
       "  </tbody>\n",
       "</table>\n",
       "</div>"
      ],
      "text/plain": [
       "                    Datetime  Current_A  Voltage_V  Cell_Temperature_C\n",
       "0 2021-01-03 10:37:00.999980        0.0   3.276036             29.7005\n",
       "1 2021-01-03 10:37:00.999980        0.0   3.271916             29.7005\n",
       "2 2021-01-03 10:37:04.999958        0.0   3.272068             29.7005\n",
       "3 2021-01-03 10:37:04.999958        0.0   3.271458             29.7005\n",
       "4 2021-01-03 10:37:12.000000        0.0   3.271916             29.7166"
      ]
     },
     "execution_count": 4,
     "metadata": {},
     "output_type": "execute_result"
    }
   ],
   "source": [
    "full_prec.head()"
   ]
  },
  {
   "cell_type": "code",
   "execution_count": 5,
   "id": "dee47bc6-b6fd-4ec6-8643-bf529de3fb5f",
   "metadata": {},
   "outputs": [],
   "source": [
    "def iterate_over_low_precision():\n",
    "    \"\"\"Yield tuples of (precision level, resampled data)\"\"\"\n",
    "\n",
    "    for path in Path('reduced-datasets/').glob('fulltime-*pkl'):\n",
    "        if path.name != reference.name:\n",
    "            level = path.name[9:-4]\n",
    "            yield level, pd.read_pickle(path)"
   ]
  },
  {
   "cell_type": "code",
   "execution_count": 6,
   "id": "22b8eee2-1008-45ad-9bb0-b291b0006c01",
   "metadata": {},
   "outputs": [
    {
     "data": {
      "text/plain": [
       "('float32',\n",
       "                         Datetime  Current_A  Voltage_V  Cell_Temperature_C\n",
       " 0     2021-01-03 10:37:00.999980        0.0   3.276036             29.7005\n",
       " 1     2021-01-03 10:37:00.999980        0.0   3.271916             29.7005\n",
       " 2     2021-01-03 10:37:04.999958        0.0   3.272068             29.7005\n",
       " 3     2021-01-03 10:37:04.999958        0.0   3.271458             29.7005\n",
       " 4     2021-01-03 10:37:12.000000        0.0   3.271916             29.7166\n",
       " ...                          ...        ...        ...                 ...\n",
       " 74499 2021-03-09 09:00:05.999957        0.0   3.646982             29.9259\n",
       " 74500 2021-03-09 09:10:06.000012        0.0   3.646372             29.7166\n",
       " 74501 2021-03-09 09:20:05.999966        0.0   3.645762             29.9098\n",
       " 74502 2021-03-09 09:29:05.999974        0.0   3.645151             29.8293\n",
       " 74503 2021-03-09 09:29:06.999969        0.0   3.644999             29.8293\n",
       " \n",
       " [74270 rows x 4 columns])"
      ]
     },
     "execution_count": 6,
     "metadata": {},
     "output_type": "execute_result"
    }
   ],
   "source": [
    "next(iterate_over_low_precision())"
   ]
  },
  {
   "cell_type": "markdown",
   "id": "74a61a22-12cd-4b84-ae48-dedb41006c7d",
   "metadata": {},
   "source": [
    "## Compare the Error Between Each Value\n",
    "Determine statistics about the distribution of differences values after each level of fidelity decrease"
   ]
  },
  {
   "cell_type": "code",
   "execution_count": 7,
   "id": "0b8b5ea3-6335-437d-9969-9222e499c452",
   "metadata": {},
   "outputs": [],
   "source": [
    "error_comparision = []\n",
    "for level, low_prec in iterate_over_low_precision():\n",
    "    record = dict(level=level)\n",
    "    for c in full_prec.columns[1:]:\n",
    "        err = full_prec[c] - low_prec[c]\n",
    "        record[f'{c}-mean'] = err.mean()\n",
    "        record[f'{c}-mae'] = err.abs().mean()\n",
    "        record[f'{c}-rmse'] = np.sqrt(err.pow(2).mean())\n",
    "        record[f'{c}-max'] = np.sqrt(err.pow(2).mean())\n",
    "    error_comparision.append(record)"
   ]
  },
  {
   "cell_type": "code",
   "execution_count": 8,
   "id": "29609d67-f38b-4aeb-98a7-da3b94a9cf5a",
   "metadata": {},
   "outputs": [
    {
     "data": {
      "text/html": [
       "<div>\n",
       "<style scoped>\n",
       "    .dataframe tbody tr th:only-of-type {\n",
       "        vertical-align: middle;\n",
       "    }\n",
       "\n",
       "    .dataframe tbody tr th {\n",
       "        vertical-align: top;\n",
       "    }\n",
       "\n",
       "    .dataframe thead th {\n",
       "        text-align: right;\n",
       "    }\n",
       "</style>\n",
       "<table border=\"1\" class=\"dataframe\">\n",
       "  <thead>\n",
       "    <tr style=\"text-align: right;\">\n",
       "      <th></th>\n",
       "      <th>level</th>\n",
       "      <th>Current_A-mean</th>\n",
       "      <th>Current_A-mae</th>\n",
       "      <th>Current_A-rmse</th>\n",
       "      <th>Current_A-max</th>\n",
       "      <th>Voltage_V-mean</th>\n",
       "      <th>Voltage_V-mae</th>\n",
       "      <th>Voltage_V-rmse</th>\n",
       "      <th>Voltage_V-max</th>\n",
       "      <th>Cell_Temperature_C-mean</th>\n",
       "      <th>Cell_Temperature_C-mae</th>\n",
       "      <th>Cell_Temperature_C-rmse</th>\n",
       "      <th>Cell_Temperature_C-max</th>\n",
       "    </tr>\n",
       "  </thead>\n",
       "  <tbody>\n",
       "    <tr>\n",
       "      <th>2</th>\n",
       "      <td>uint32</td>\n",
       "      <td>-7.127941e-12</td>\n",
       "      <td>1.435920e-11</td>\n",
       "      <td>1.616879e-11</td>\n",
       "      <td>1.616879e-11</td>\n",
       "      <td>-7.277175e-13</td>\n",
       "      <td>7.554413e-11</td>\n",
       "      <td>8.729317e-11</td>\n",
       "      <td>8.729317e-11</td>\n",
       "      <td>2.416290e-12</td>\n",
       "      <td>4.043128e-11</td>\n",
       "      <td>4.662752e-11</td>\n",
       "      <td>4.662752e-11</td>\n",
       "    </tr>\n",
       "    <tr>\n",
       "      <th>0</th>\n",
       "      <td>float32</td>\n",
       "      <td>-6.660918e-11</td>\n",
       "      <td>2.198506e-10</td>\n",
       "      <td>3.005741e-10</td>\n",
       "      <td>3.005741e-10</td>\n",
       "      <td>4.355685e-10</td>\n",
       "      <td>7.334089e-08</td>\n",
       "      <td>8.985429e-08</td>\n",
       "      <td>8.985429e-08</td>\n",
       "      <td>2.164828e-07</td>\n",
       "      <td>3.359238e-07</td>\n",
       "      <td>4.016789e-07</td>\n",
       "      <td>4.016789e-07</td>\n",
       "    </tr>\n",
       "    <tr>\n",
       "      <th>4</th>\n",
       "      <td>uint16</td>\n",
       "      <td>-1.348519e-07</td>\n",
       "      <td>8.925536e-07</td>\n",
       "      <td>1.055247e-06</td>\n",
       "      <td>1.055247e-06</td>\n",
       "      <td>2.272336e-08</td>\n",
       "      <td>4.917021e-06</td>\n",
       "      <td>5.696538e-06</td>\n",
       "      <td>5.696538e-06</td>\n",
       "      <td>9.024303e-08</td>\n",
       "      <td>2.715589e-06</td>\n",
       "      <td>3.123914e-06</td>\n",
       "      <td>3.123914e-06</td>\n",
       "    </tr>\n",
       "    <tr>\n",
       "      <th>3</th>\n",
       "      <td>float16</td>\n",
       "      <td>7.300372e-08</td>\n",
       "      <td>1.448100e-06</td>\n",
       "      <td>2.337332e-06</td>\n",
       "      <td>2.337332e-06</td>\n",
       "      <td>-1.427107e-05</td>\n",
       "      <td>5.833611e-04</td>\n",
       "      <td>7.111220e-04</td>\n",
       "      <td>7.111220e-04</td>\n",
       "      <td>2.840714e-03</td>\n",
       "      <td>3.139402e-03</td>\n",
       "      <td>3.688078e-03</td>\n",
       "      <td>3.688078e-03</td>\n",
       "    </tr>\n",
       "    <tr>\n",
       "      <th>1</th>\n",
       "      <td>uint8</td>\n",
       "      <td>1.099163e-04</td>\n",
       "      <td>3.114418e-04</td>\n",
       "      <td>3.153037e-04</td>\n",
       "      <td>3.153037e-04</td>\n",
       "      <td>2.353612e-06</td>\n",
       "      <td>1.275257e-03</td>\n",
       "      <td>1.471335e-03</td>\n",
       "      <td>1.471335e-03</td>\n",
       "      <td>-3.699776e-06</td>\n",
       "      <td>7.003408e-04</td>\n",
       "      <td>8.019913e-04</td>\n",
       "      <td>8.019913e-04</td>\n",
       "    </tr>\n",
       "  </tbody>\n",
       "</table>\n",
       "</div>"
      ],
      "text/plain": [
       "     level  Current_A-mean  Current_A-mae  Current_A-rmse  Current_A-max  \\\n",
       "2   uint32   -7.127941e-12   1.435920e-11    1.616879e-11   1.616879e-11   \n",
       "0  float32   -6.660918e-11   2.198506e-10    3.005741e-10   3.005741e-10   \n",
       "4   uint16   -1.348519e-07   8.925536e-07    1.055247e-06   1.055247e-06   \n",
       "3  float16    7.300372e-08   1.448100e-06    2.337332e-06   2.337332e-06   \n",
       "1    uint8    1.099163e-04   3.114418e-04    3.153037e-04   3.153037e-04   \n",
       "\n",
       "   Voltage_V-mean  Voltage_V-mae  Voltage_V-rmse  Voltage_V-max  \\\n",
       "2   -7.277175e-13   7.554413e-11    8.729317e-11   8.729317e-11   \n",
       "0    4.355685e-10   7.334089e-08    8.985429e-08   8.985429e-08   \n",
       "4    2.272336e-08   4.917021e-06    5.696538e-06   5.696538e-06   \n",
       "3   -1.427107e-05   5.833611e-04    7.111220e-04   7.111220e-04   \n",
       "1    2.353612e-06   1.275257e-03    1.471335e-03   1.471335e-03   \n",
       "\n",
       "   Cell_Temperature_C-mean  Cell_Temperature_C-mae  Cell_Temperature_C-rmse  \\\n",
       "2             2.416290e-12            4.043128e-11             4.662752e-11   \n",
       "0             2.164828e-07            3.359238e-07             4.016789e-07   \n",
       "4             9.024303e-08            2.715589e-06             3.123914e-06   \n",
       "3             2.840714e-03            3.139402e-03             3.688078e-03   \n",
       "1            -3.699776e-06            7.003408e-04             8.019913e-04   \n",
       "\n",
       "   Cell_Temperature_C-max  \n",
       "2            4.662752e-11  \n",
       "0            4.016789e-07  \n",
       "4            3.123914e-06  \n",
       "3            3.688078e-03  \n",
       "1            8.019913e-04  "
      ]
     },
     "execution_count": 8,
     "metadata": {},
     "output_type": "execute_result"
    }
   ],
   "source": [
    "error_comparision = pd.DataFrame(error_comparision).sort_values('Voltage_V-rmse')\n",
    "error_comparision"
   ]
  },
  {
   "cell_type": "markdown",
   "id": "5a62c3ee-b372-4c8a-946e-9d2e82aedc5f",
   "metadata": {},
   "source": [
    "Make a boxplot for errors in "
   ]
  },
  {
   "cell_type": "code",
   "execution_count": 9,
   "id": "65b8fd21-0d1d-44fe-80f4-7aabf7309ecf",
   "metadata": {},
   "outputs": [
    {
     "data": {
      "image/png": "[encoded data removed]",
      "text/plain": [
       "<Figure size 375x400 with 3 Axes>"
      ]
     },
     "metadata": {},
     "output_type": "display_data"
    }
   ],
   "source": [
    "fig, axs = plt.subplots(3, 1, figsize=(3.75, 4.), sharex=True)\n",
    "\n",
    "for ax, col in zip(axs, full_prec.columns[1:]):\n",
    "\n",
    "    # Gather the errors for that column\n",
    "    box_data = []\n",
    "    for lev in error_comparision['level']:\n",
    "        low_prec = pd.read_pickle(reference.parent / f'fulltime-{lev}.pkl')\n",
    "        err = np.log10(np.clip((full_prec[col] - low_prec[col]).abs(), 1e-10, None))\n",
    "        box_data.append(err)\n",
    "\n",
    "    ax.boxplot(box_data, showfliers=False)\n",
    "    ax.set_title(col, fontsize=6, loc='left')\n",
    "\n",
    "    ax.set_ylabel('$\\log_{10}$ RMSE')\n",
    "\n",
    "axs[-1].set_xticks(np.arange(len(error_comparision['level'])) + 1)\n",
    "axs[-1].set_xticklabels(error_comparision['level'])\n",
    "fig.tight_layout()"
   ]
  },
  {
   "cell_type": "markdown",
   "id": "2cfb813e-eed7-4513-8316-78e830dd02f8",
   "metadata": {},
   "source": [
    "Short answer: go for uint16 if we want maximum errors of ~1e-6."
   ]
  },
  {
   "cell_type": "code",
   "execution_count": null,
   "id": "f16201ae-ee86-4c63-9e1b-b4af0fea1d5c",
   "metadata": {},
   "outputs": [],
   "source": []
  }
 ],
 "metadata": {
  "kernelspec": {
   "display_name": "Python 3 (ipykernel)",
   "language": "python",
   "name": "python3"
  },
  "language_info": {
   "codemirror_mode": {
    "name": "ipython",
    "version": 3
   },
   "file_extension": ".py",
   "mimetype": "text/x-python",
   "name": "python",
   "nbconvert_exporter": "python",
   "pygments_lexer": "ipython3",
   "version": "3.10.14"
  }
 },
 "nbformat": 4,
 "nbformat_minor": 5
}
