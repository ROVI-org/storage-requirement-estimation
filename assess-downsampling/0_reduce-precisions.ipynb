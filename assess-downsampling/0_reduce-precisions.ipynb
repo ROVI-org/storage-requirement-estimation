{
 "cells": [
  {
   "cell_type": "markdown",
   "id": "cd474e51-f758-4810-b45f-2f64dd8c137a",
   "metadata": {},
   "source": [
    "# Create Low-Precision Copies of Test Dataset\n",
    "This notebook creates many low-precision copies of a dataset and re-converts each to double precision before saving it in a binary format so that no further precision loss occurs.\n",
    "\n",
    "Later notebooks will use the binary files as a basis for later analysis"
   ]
  },
  {
   "cell_type": "code",
   "execution_count": 1,
   "id": "7abb9eb7-9759-45ff-9fa6-595f16eca770",
   "metadata": {},
   "outputs": [],
   "source": [
    "from datetime import datetime, timedelta\n",
    "from pathlib import Path\n",
    "import pandas as pd\n",
    "import numpy as np"
   ]
  },
  {
   "cell_type": "markdown",
   "id": "443afee5-9e81-47f0-b5c6-ad83a356f480",
   "metadata": {},
   "source": [
    "Configuration"
   ]
  },
  {
   "cell_type": "code",
   "execution_count": 2,
   "id": "aef23b26-cde7-402f-9fe5-7a12798f25b9",
   "metadata": {},
   "outputs": [],
   "source": [
    "key_columns = ['Current_A', 'Voltage_V', 'Cell_Temperature_C']  # Columns to study downsampling"
   ]
  },
  {
   "cell_type": "markdown",
   "id": "8f7a4dc6-e785-4172-9029-d9c834bcd75a",
   "metadata": {},
   "source": [
    "## Load the Example Data\n",
    "It is stored in a CSV, so it already is at a lower precision then double."
   ]
  },
  {
   "cell_type": "code",
   "execution_count": 3,
   "id": "3ecb6d54-e840-48a9-81f4-df8517fee647",
   "metadata": {},
   "outputs": [],
   "source": [
    "xcel = pd.read_csv('../example-data/xcel.csv')\n",
    "xcel.query('Cycle_Label != \"EIS\"', inplace=True)  # Don't bother here"
   ]
  },
  {
   "cell_type": "markdown",
   "id": "18960360-ae33-4aec-8971-32c6b50101c7",
   "metadata": {},
   "source": [
    "Get the datatime and any other key column"
   ]
  },
  {
   "cell_type": "code",
   "execution_count": 4,
   "id": "58d8e46e-7e33-42d7-aed2-fed3411430cb",
   "metadata": {},
   "outputs": [],
   "source": [
    "xcel['Datetime'] = xcel['Datenum_d'].apply(lambda x: datetime(year=1, month=1, day=1) + timedelta(days=x))"
   ]
  },
  {
   "cell_type": "code",
   "execution_count": 5,
   "id": "326ad619-7a47-4edf-a3d4-b4b5adb680ac",
   "metadata": {},
   "outputs": [],
   "source": [
    "xcel = xcel[['Datetime'] + key_columns]"
   ]
  },
  {
   "cell_type": "code",
   "execution_count": 6,
   "id": "80fd8cfb-0211-4683-91d0-0c71e790c951",
   "metadata": {},
   "outputs": [
    {
     "data": {
      "text/plain": [
       "Datetime              datetime64[ns]\n",
       "Current_A                    float64\n",
       "Voltage_V                    float64\n",
       "Cell_Temperature_C           float64\n",
       "dtype: object"
      ]
     },
     "execution_count": 6,
     "metadata": {},
     "output_type": "execute_result"
    }
   ],
   "source": [
    "xcel.dtypes"
   ]
  },
  {
   "cell_type": "markdown",
   "id": "afa95aff-b57b-456e-acdc-52a2b5a56681",
   "metadata": {},
   "source": [
    "## Run the Conversions\n",
    "Drop to different formats and then convert back to double before saving in pickle format"
   ]
  },
  {
   "cell_type": "code",
   "execution_count": 7,
   "id": "5f587efe-6c1d-4c6e-bfb9-542c049bd50e",
   "metadata": {},
   "outputs": [],
   "source": [
    "out_dir = Path('reduced-datasets')\n",
    "out_dir.mkdir(exist_ok=True)"
   ]
  },
  {
   "cell_type": "markdown",
   "id": "2fdc57af-af87-4829-a452-c7f9f254d445",
   "metadata": {},
   "source": [
    "Start with floating point"
   ]
  },
  {
   "cell_type": "code",
   "execution_count": 8,
   "id": "a573639a-c782-40f3-a2be-09a43df42570",
   "metadata": {},
   "outputs": [],
   "source": [
    "for low_type in [np.float16, np.float32]:\n",
    "    lowfi = xcel.copy()\n",
    "    for c in key_columns:\n",
    "        lowfi[c] = xcel[c].astype(low_type).astype(np.float64)\n",
    "    \n",
    "    lowfi.to_pickle(out_dir / f'fulltime-{np.dtype(low_type).name}.pkl')"
   ]
  },
  {
   "cell_type": "markdown",
   "id": "cc02bbae-ba67-40d7-97ca-85a352cdd4a8",
   "metadata": {},
   "source": [
    "The try some \"fixed-point\" data. We are going to represent fixed point using equally-spaced values on the range $[ \\lfloor \\min f \\rfloor, \\lceil \\max f \\rceil ]$. I use the ceiling and floor functions to ensure the data points are decimal numbers that we can represent close-to-exactly."
   ]
  },
  {
   "cell_type": "code",
   "execution_count": 9,
   "id": "950baf8b-67fd-4a44-a12e-93326adc8c1a",
   "metadata": {},
   "outputs": [],
   "source": [
    "for low_type in [np.uint8, np.uint16, np.uint32]:\n",
    "    lowfi = xcel.copy()\n",
    "    max_int = 2 ** (np.dtype(low_type).itemsize * 8) - 1\n",
    "    for c in key_columns:\n",
    "        # Convert to an integer representation\n",
    "        min_f = np.floor(xcel[c].min())\n",
    "        max_f = np.ceil(xcel[c].max())\n",
    "        as_int = ((xcel[c] - min_f) / (max_f - min_f) * max_int).astype(low_type)\n",
    "\n",
    "        # Convert back to floating point\n",
    "        as_float = (max_f - min_f) * (as_int.astype(np.float64) / max_int) + min_f\n",
    "        lowfi[c] = as_float\n",
    "\n",
    "    lowfi.to_pickle(out_dir / f'fulltime-{np.dtype(low_type).name}.pkl')"
   ]
  },
  {
   "cell_type": "code",
   "execution_count": null,
   "id": "aca9bca9-ffb2-47f4-9e10-c17b8fa04d0d",
   "metadata": {},
   "outputs": [],
   "source": []
  }
 ],
 "metadata": {
  "kernelspec": {
   "display_name": "Python 3 (ipykernel)",
   "language": "python",
   "name": "python3"
  },
  "language_info": {
   "codemirror_mode": {
    "name": "ipython",
    "version": 3
   },
   "file_extension": ".py",
   "mimetype": "text/x-python",
   "name": "python",
   "nbconvert_exporter": "python",
   "pygments_lexer": "ipython3",
   "version": "3.10.14"
  }
 },
 "nbformat": 4,
 "nbformat_minor": 5
}
